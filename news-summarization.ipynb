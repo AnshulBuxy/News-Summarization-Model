{
 "cells": [
  {
   "cell_type": "code",
   "execution_count": 1,
   "metadata": {
    "tags": []
   },
   "outputs": [],
   "source": [
    "import numpy as np\n",
    "import pandas as pd\n",
    "import seaborn as sns\n",
    "import matplotlib.pyplot as plt\n",
    "import torch\n",
    "import warnings\n",
    "warnings.filterwarnings(\"ignore\") "
   ]
  },
  {
   "cell_type": "code",
   "execution_count": 2,
   "metadata": {
    "tags": []
   },
   "outputs": [],
   "source": [
    "from sklearn.model_selection import train_test_split\n",
    "from torch.utils.data import Dataset, DataLoader\n",
    "from lightning.pytorch import Trainer\n",
    "from lightning.pytorch.callbacks import ModelCheckpoint\n",
    "from lightning.pytorch.loggers import TensorBoardLogger"
   ]
  },
  {
   "cell_type": "code",
   "execution_count": 3,
   "metadata": {
    "tags": []
   },
   "outputs": [],
   "source": [
    "import transformers\n",
    "from transformers import T5Tokenizer, T5ForConditionalGeneration, AutoTokenizer, AutoModel\n",
    "from transformers import PegasusForConditionalGeneration, PegasusTokenizer, BartForConditionalGeneration\n",
    "from transformers import DataCollatorForSeq2Seq, AdamW, get_linear_schedule_with_warmup\n",
    "from transformers import AutoModelForSeq2SeqLM, Seq2SeqTrainingArguments, Seq2SeqTrainer\n",
    "from transformers import create_optimizer, AdamWeightDecay\n",
    "from transformers import pipeline\n",
    "import datasets\n",
    "from datasets import Dataset, DatasetDict\n",
    "#from torch.utils.data import DataLoader, Dataset\n",
    "from tqdm.auto import tqdm\n",
    "from rouge import Rouge"
   ]
  },
  {
   "cell_type": "code",
   "execution_count": 4,
   "metadata": {
    "tags": []
   },
   "outputs": [
    {
     "data": {
      "text/plain": [
       "'cuda'"
      ]
     },
     "execution_count": 4,
     "metadata": {},
     "output_type": "execute_result"
    }
   ],
   "source": [
    "from torch import cuda\n",
    "device = 'cuda' if cuda.is_available() else 'cpu'\n",
    "device"
   ]
  },
  {
   "cell_type": "code",
   "execution_count": 5,
   "metadata": {
    "tags": []
   },
   "outputs": [
    {
     "data": {
      "text/html": [
       "<div>\n",
       "<style scoped>\n",
       "    .dataframe tbody tr th:only-of-type {\n",
       "        vertical-align: middle;\n",
       "    }\n",
       "\n",
       "    .dataframe tbody tr th {\n",
       "        vertical-align: top;\n",
       "    }\n",
       "\n",
       "    .dataframe thead th {\n",
       "        text-align: right;\n",
       "    }\n",
       "</style>\n",
       "<table border=\"1\" class=\"dataframe\">\n",
       "  <thead>\n",
       "    <tr style=\"text-align: right;\">\n",
       "      <th></th>\n",
       "      <th>author</th>\n",
       "      <th>date</th>\n",
       "      <th>headlines</th>\n",
       "      <th>read_more</th>\n",
       "      <th>text</th>\n",
       "      <th>ctext</th>\n",
       "    </tr>\n",
       "  </thead>\n",
       "  <tbody>\n",
       "    <tr>\n",
       "      <th>0</th>\n",
       "      <td>Chhavi Tyagi</td>\n",
       "      <td>03 Aug 2017,Thursday</td>\n",
       "      <td>Daman &amp; Diu revokes mandatory Rakshabandhan in...</td>\n",
       "      <td>http://www.hindustantimes.com/india-news/raksh...</td>\n",
       "      <td>The Administration of Union Territory Daman an...</td>\n",
       "      <td>The Daman and Diu administration on Wednesday ...</td>\n",
       "    </tr>\n",
       "    <tr>\n",
       "      <th>1</th>\n",
       "      <td>Daisy Mowke</td>\n",
       "      <td>03 Aug 2017,Thursday</td>\n",
       "      <td>Malaika slams user who trolled her for 'divorc...</td>\n",
       "      <td>http://www.hindustantimes.com/bollywood/malaik...</td>\n",
       "      <td>Malaika Arora slammed an Instagram user who tr...</td>\n",
       "      <td>From her special numbers to TV?appearances, Bo...</td>\n",
       "    </tr>\n",
       "    <tr>\n",
       "      <th>2</th>\n",
       "      <td>Arshiya Chopra</td>\n",
       "      <td>03 Aug 2017,Thursday</td>\n",
       "      <td>'Virgin' now corrected to 'Unmarried' in IGIMS...</td>\n",
       "      <td>http://www.hindustantimes.com/patna/bihar-igim...</td>\n",
       "      <td>The Indira Gandhi Institute of Medical Science...</td>\n",
       "      <td>The Indira Gandhi Institute of Medical Science...</td>\n",
       "    </tr>\n",
       "    <tr>\n",
       "      <th>3</th>\n",
       "      <td>Sumedha Sehra</td>\n",
       "      <td>03 Aug 2017,Thursday</td>\n",
       "      <td>Aaj aapne pakad liya: LeT man Dujana before be...</td>\n",
       "      <td>http://indiatoday.intoday.in/story/abu-dujana-...</td>\n",
       "      <td>Lashkar-e-Taiba's Kashmir commander Abu Dujana...</td>\n",
       "      <td>Lashkar-e-Taiba's Kashmir commander Abu Dujana...</td>\n",
       "    </tr>\n",
       "    <tr>\n",
       "      <th>4</th>\n",
       "      <td>Aarushi Maheshwari</td>\n",
       "      <td>03 Aug 2017,Thursday</td>\n",
       "      <td>Hotel staff to get training to spot signs of s...</td>\n",
       "      <td>http://indiatoday.intoday.in/story/sex-traffic...</td>\n",
       "      <td>Hotels in Maharashtra will train their staff t...</td>\n",
       "      <td>Hotels in Mumbai and other Indian cities are t...</td>\n",
       "    </tr>\n",
       "  </tbody>\n",
       "</table>\n",
       "</div>"
      ],
      "text/plain": [
       "               author                  date  \\\n",
       "0        Chhavi Tyagi  03 Aug 2017,Thursday   \n",
       "1         Daisy Mowke  03 Aug 2017,Thursday   \n",
       "2      Arshiya Chopra  03 Aug 2017,Thursday   \n",
       "3       Sumedha Sehra  03 Aug 2017,Thursday   \n",
       "4  Aarushi Maheshwari  03 Aug 2017,Thursday   \n",
       "\n",
       "                                           headlines  \\\n",
       "0  Daman & Diu revokes mandatory Rakshabandhan in...   \n",
       "1  Malaika slams user who trolled her for 'divorc...   \n",
       "2  'Virgin' now corrected to 'Unmarried' in IGIMS...   \n",
       "3  Aaj aapne pakad liya: LeT man Dujana before be...   \n",
       "4  Hotel staff to get training to spot signs of s...   \n",
       "\n",
       "                                           read_more  \\\n",
       "0  http://www.hindustantimes.com/india-news/raksh...   \n",
       "1  http://www.hindustantimes.com/bollywood/malaik...   \n",
       "2  http://www.hindustantimes.com/patna/bihar-igim...   \n",
       "3  http://indiatoday.intoday.in/story/abu-dujana-...   \n",
       "4  http://indiatoday.intoday.in/story/sex-traffic...   \n",
       "\n",
       "                                                text  \\\n",
       "0  The Administration of Union Territory Daman an...   \n",
       "1  Malaika Arora slammed an Instagram user who tr...   \n",
       "2  The Indira Gandhi Institute of Medical Science...   \n",
       "3  Lashkar-e-Taiba's Kashmir commander Abu Dujana...   \n",
       "4  Hotels in Maharashtra will train their staff t...   \n",
       "\n",
       "                                               ctext  \n",
       "0  The Daman and Diu administration on Wednesday ...  \n",
       "1  From her special numbers to TV?appearances, Bo...  \n",
       "2  The Indira Gandhi Institute of Medical Science...  \n",
       "3  Lashkar-e-Taiba's Kashmir commander Abu Dujana...  \n",
       "4  Hotels in Mumbai and other Indian cities are t...  "
      ]
     },
     "execution_count": 5,
     "metadata": {},
     "output_type": "execute_result"
    }
   ],
   "source": [
    "df = pd.read_csv(\"news_summary.csv\", encoding=\"latin-1\")\n",
    "df.head()"
   ]
  },
  {
   "cell_type": "code",
   "execution_count": 6,
   "metadata": {
    "tags": []
   },
   "outputs": [
    {
     "data": {
      "text/html": [
       "<div>\n",
       "<style scoped>\n",
       "    .dataframe tbody tr th:only-of-type {\n",
       "        vertical-align: middle;\n",
       "    }\n",
       "\n",
       "    .dataframe tbody tr th {\n",
       "        vertical-align: top;\n",
       "    }\n",
       "\n",
       "    .dataframe thead th {\n",
       "        text-align: right;\n",
       "    }\n",
       "</style>\n",
       "<table border=\"1\" class=\"dataframe\">\n",
       "  <thead>\n",
       "    <tr style=\"text-align: right;\">\n",
       "      <th></th>\n",
       "      <th>author</th>\n",
       "      <th>date</th>\n",
       "      <th>headlines</th>\n",
       "      <th>read_more</th>\n",
       "      <th>text</th>\n",
       "      <th>ctext</th>\n",
       "    </tr>\n",
       "  </thead>\n",
       "  <tbody>\n",
       "    <tr>\n",
       "      <th>count</th>\n",
       "      <td>4514</td>\n",
       "      <td>4514</td>\n",
       "      <td>4514</td>\n",
       "      <td>4514</td>\n",
       "      <td>4514</td>\n",
       "      <td>4396</td>\n",
       "    </tr>\n",
       "    <tr>\n",
       "      <th>unique</th>\n",
       "      <td>45</td>\n",
       "      <td>240</td>\n",
       "      <td>4514</td>\n",
       "      <td>4461</td>\n",
       "      <td>4514</td>\n",
       "      <td>4341</td>\n",
       "    </tr>\n",
       "    <tr>\n",
       "      <th>top</th>\n",
       "      <td>Chhavi Tyagi</td>\n",
       "      <td>19 Jul 2017,Wednesday</td>\n",
       "      <td>More than half of India's languages may die in...</td>\n",
       "      <td>http://indiatoday.intoday.in/story/assembly-el...</td>\n",
       "      <td>At least 400 languages or more than half langu...</td>\n",
       "      <td>AAJ TAK LIVE TV WITH LIVE ELECTION RESULTS I c...</td>\n",
       "    </tr>\n",
       "    <tr>\n",
       "      <th>freq</th>\n",
       "      <td>559</td>\n",
       "      <td>76</td>\n",
       "      <td>1</td>\n",
       "      <td>13</td>\n",
       "      <td>1</td>\n",
       "      <td>13</td>\n",
       "    </tr>\n",
       "  </tbody>\n",
       "</table>\n",
       "</div>"
      ],
      "text/plain": [
       "              author                   date  \\\n",
       "count           4514                   4514   \n",
       "unique            45                    240   \n",
       "top     Chhavi Tyagi  19 Jul 2017,Wednesday   \n",
       "freq             559                     76   \n",
       "\n",
       "                                                headlines  \\\n",
       "count                                                4514   \n",
       "unique                                               4514   \n",
       "top     More than half of India's languages may die in...   \n",
       "freq                                                    1   \n",
       "\n",
       "                                                read_more  \\\n",
       "count                                                4514   \n",
       "unique                                               4461   \n",
       "top     http://indiatoday.intoday.in/story/assembly-el...   \n",
       "freq                                                   13   \n",
       "\n",
       "                                                     text  \\\n",
       "count                                                4514   \n",
       "unique                                               4514   \n",
       "top     At least 400 languages or more than half langu...   \n",
       "freq                                                    1   \n",
       "\n",
       "                                                    ctext  \n",
       "count                                                4396  \n",
       "unique                                               4341  \n",
       "top     AAJ TAK LIVE TV WITH LIVE ELECTION RESULTS I c...  \n",
       "freq                                                   13  "
      ]
     },
     "execution_count": 6,
     "metadata": {},
     "output_type": "execute_result"
    }
   ],
   "source": [
    "df.describe()"
   ]
  },
  {
   "cell_type": "code",
   "execution_count": 7,
   "metadata": {
    "tags": []
   },
   "outputs": [
    {
     "name": "stdout",
     "output_type": "stream",
     "text": [
      "<class 'pandas.core.frame.DataFrame'>\n",
      "\n",
      "RangeIndex: 4514 entries, 0 to 4513\n",
      "\n",
      "Data columns (total 6 columns):\n",
      "\n",
      " #   Column     Non-Null Count  Dtype \n",
      "\n",
      "---  ------     --------------  ----- \n",
      "\n",
      " 0   author     4514 non-null   object\n",
      "\n",
      " 1   date       4514 non-null   object\n",
      "\n",
      " 2   headlines  4514 non-null   object\n",
      "\n",
      " 3   read_more  4514 non-null   object\n",
      "\n",
      " 4   text       4514 non-null   object\n",
      "\n",
      " 5   ctext      4396 non-null   object\n",
      "\n",
      "dtypes: object(6)\n",
      "\n",
      "memory usage: 211.7+ KB\n"
     ]
    }
   ],
   "source": [
    "df.info()"
   ]
  },
  {
   "cell_type": "code",
   "execution_count": 8,
   "metadata": {
    "tags": []
   },
   "outputs": [
    {
     "data": {
      "text/html": [
       "<div>\n",
       "<style scoped>\n",
       "    .dataframe tbody tr th:only-of-type {\n",
       "        vertical-align: middle;\n",
       "    }\n",
       "\n",
       "    .dataframe tbody tr th {\n",
       "        vertical-align: top;\n",
       "    }\n",
       "\n",
       "    .dataframe thead th {\n",
       "        text-align: right;\n",
       "    }\n",
       "</style>\n",
       "<table border=\"1\" class=\"dataframe\">\n",
       "  <thead>\n",
       "    <tr style=\"text-align: right;\">\n",
       "      <th></th>\n",
       "      <th>headlines</th>\n",
       "      <th>text</th>\n",
       "      <th>ctext</th>\n",
       "    </tr>\n",
       "  </thead>\n",
       "  <tbody>\n",
       "    <tr>\n",
       "      <th>0</th>\n",
       "      <td>Daman &amp; Diu revokes mandatory Rakshabandhan in...</td>\n",
       "      <td>The Administration of Union Territory Daman an...</td>\n",
       "      <td>The Daman and Diu administration on Wednesday ...</td>\n",
       "    </tr>\n",
       "    <tr>\n",
       "      <th>1</th>\n",
       "      <td>Malaika slams user who trolled her for 'divorc...</td>\n",
       "      <td>Malaika Arora slammed an Instagram user who tr...</td>\n",
       "      <td>From her special numbers to TV?appearances, Bo...</td>\n",
       "    </tr>\n",
       "    <tr>\n",
       "      <th>2</th>\n",
       "      <td>'Virgin' now corrected to 'Unmarried' in IGIMS...</td>\n",
       "      <td>The Indira Gandhi Institute of Medical Science...</td>\n",
       "      <td>The Indira Gandhi Institute of Medical Science...</td>\n",
       "    </tr>\n",
       "    <tr>\n",
       "      <th>3</th>\n",
       "      <td>Aaj aapne pakad liya: LeT man Dujana before be...</td>\n",
       "      <td>Lashkar-e-Taiba's Kashmir commander Abu Dujana...</td>\n",
       "      <td>Lashkar-e-Taiba's Kashmir commander Abu Dujana...</td>\n",
       "    </tr>\n",
       "    <tr>\n",
       "      <th>4</th>\n",
       "      <td>Hotel staff to get training to spot signs of s...</td>\n",
       "      <td>Hotels in Maharashtra will train their staff t...</td>\n",
       "      <td>Hotels in Mumbai and other Indian cities are t...</td>\n",
       "    </tr>\n",
       "  </tbody>\n",
       "</table>\n",
       "</div>"
      ],
      "text/plain": [
       "                                           headlines  \\\n",
       "0  Daman & Diu revokes mandatory Rakshabandhan in...   \n",
       "1  Malaika slams user who trolled her for 'divorc...   \n",
       "2  'Virgin' now corrected to 'Unmarried' in IGIMS...   \n",
       "3  Aaj aapne pakad liya: LeT man Dujana before be...   \n",
       "4  Hotel staff to get training to spot signs of s...   \n",
       "\n",
       "                                                text  \\\n",
       "0  The Administration of Union Territory Daman an...   \n",
       "1  Malaika Arora slammed an Instagram user who tr...   \n",
       "2  The Indira Gandhi Institute of Medical Science...   \n",
       "3  Lashkar-e-Taiba's Kashmir commander Abu Dujana...   \n",
       "4  Hotels in Maharashtra will train their staff t...   \n",
       "\n",
       "                                               ctext  \n",
       "0  The Daman and Diu administration on Wednesday ...  \n",
       "1  From her special numbers to TV?appearances, Bo...  \n",
       "2  The Indira Gandhi Institute of Medical Science...  \n",
       "3  Lashkar-e-Taiba's Kashmir commander Abu Dujana...  \n",
       "4  Hotels in Mumbai and other Indian cities are t...  "
      ]
     },
     "execution_count": 8,
     "metadata": {},
     "output_type": "execute_result"
    }
   ],
   "source": [
    "df = df[['headlines', 'text', 'ctext']]\n",
    "df.head()"
   ]
  },
  {
   "cell_type": "code",
   "execution_count": 9,
   "metadata": {
    "tags": []
   },
   "outputs": [
    {
     "data": {
      "text/html": [
       "<div>\n",
       "<style scoped>\n",
       "    .dataframe tbody tr th:only-of-type {\n",
       "        vertical-align: middle;\n",
       "    }\n",
       "\n",
       "    .dataframe tbody tr th {\n",
       "        vertical-align: top;\n",
       "    }\n",
       "\n",
       "    .dataframe thead th {\n",
       "        text-align: right;\n",
       "    }\n",
       "</style>\n",
       "<table border=\"1\" class=\"dataframe\">\n",
       "  <thead>\n",
       "    <tr style=\"text-align: right;\">\n",
       "      <th></th>\n",
       "      <th>headlines</th>\n",
       "      <th>text</th>\n",
       "      <th>ctext</th>\n",
       "    </tr>\n",
       "  </thead>\n",
       "  <tbody>\n",
       "    <tr>\n",
       "      <th>count</th>\n",
       "      <td>4396</td>\n",
       "      <td>4396</td>\n",
       "      <td>4396</td>\n",
       "    </tr>\n",
       "    <tr>\n",
       "      <th>unique</th>\n",
       "      <td>4396</td>\n",
       "      <td>4396</td>\n",
       "      <td>4341</td>\n",
       "    </tr>\n",
       "    <tr>\n",
       "      <th>top</th>\n",
       "      <td>More than half of India's languages may die in...</td>\n",
       "      <td>At least 400 languages or more than half langu...</td>\n",
       "      <td>AAJ TAK LIVE TV WITH LIVE ELECTION RESULTS I c...</td>\n",
       "    </tr>\n",
       "    <tr>\n",
       "      <th>freq</th>\n",
       "      <td>1</td>\n",
       "      <td>1</td>\n",
       "      <td>13</td>\n",
       "    </tr>\n",
       "  </tbody>\n",
       "</table>\n",
       "</div>"
      ],
      "text/plain": [
       "                                                headlines  \\\n",
       "count                                                4396   \n",
       "unique                                               4396   \n",
       "top     More than half of India's languages may die in...   \n",
       "freq                                                    1   \n",
       "\n",
       "                                                     text  \\\n",
       "count                                                4396   \n",
       "unique                                               4396   \n",
       "top     At least 400 languages or more than half langu...   \n",
       "freq                                                    1   \n",
       "\n",
       "                                                    ctext  \n",
       "count                                                4396  \n",
       "unique                                               4341  \n",
       "top     AAJ TAK LIVE TV WITH LIVE ELECTION RESULTS I c...  \n",
       "freq                                                   13  "
      ]
     },
     "execution_count": 9,
     "metadata": {},
     "output_type": "execute_result"
    }
   ],
   "source": [
    "# drop na\n",
    "df = df.dropna()\n",
    "df.describe()"
   ]
  },
  {
   "cell_type": "code",
   "execution_count": 10,
   "metadata": {
    "tags": []
   },
   "outputs": [
    {
     "data": {
      "text/html": [
       "<div>\n",
       "<style scoped>\n",
       "    .dataframe tbody tr th:only-of-type {\n",
       "        vertical-align: middle;\n",
       "    }\n",
       "\n",
       "    .dataframe tbody tr th {\n",
       "        vertical-align: top;\n",
       "    }\n",
       "\n",
       "    .dataframe thead th {\n",
       "        text-align: right;\n",
       "    }\n",
       "</style>\n",
       "<table border=\"1\" class=\"dataframe\">\n",
       "  <thead>\n",
       "    <tr style=\"text-align: right;\">\n",
       "      <th></th>\n",
       "      <th>headlines</th>\n",
       "      <th>text</th>\n",
       "      <th>ctext</th>\n",
       "    </tr>\n",
       "  </thead>\n",
       "  <tbody>\n",
       "    <tr>\n",
       "      <th>0</th>\n",
       "      <td>daman &amp; diu revokes mandatory rakshabandhan in...</td>\n",
       "      <td>the administration of union territory daman an...</td>\n",
       "      <td>the daman and diu administration on wednesday ...</td>\n",
       "    </tr>\n",
       "    <tr>\n",
       "      <th>1</th>\n",
       "      <td>malaika slams user who trolled her for 'divorc...</td>\n",
       "      <td>malaika arora slammed an instagram user who tr...</td>\n",
       "      <td>from her special numbers to tv?appearances, bo...</td>\n",
       "    </tr>\n",
       "    <tr>\n",
       "      <th>2</th>\n",
       "      <td>'virgin' now corrected to 'unmarried' in igims...</td>\n",
       "      <td>the indira gandhi institute of medical science...</td>\n",
       "      <td>the indira gandhi institute of medical science...</td>\n",
       "    </tr>\n",
       "    <tr>\n",
       "      <th>3</th>\n",
       "      <td>aaj aapne pakad liya: let man dujana before be...</td>\n",
       "      <td>lashkar-e-taiba's kashmir commander abu dujana...</td>\n",
       "      <td>lashkar-e-taiba's kashmir commander abu dujana...</td>\n",
       "    </tr>\n",
       "    <tr>\n",
       "      <th>4</th>\n",
       "      <td>hotel staff to get training to spot signs of s...</td>\n",
       "      <td>hotels in maharashtra will train their staff t...</td>\n",
       "      <td>hotels in mumbai and other indian cities are t...</td>\n",
       "    </tr>\n",
       "  </tbody>\n",
       "</table>\n",
       "</div>"
      ],
      "text/plain": [
       "                                           headlines  \\\n",
       "0  daman & diu revokes mandatory rakshabandhan in...   \n",
       "1  malaika slams user who trolled her for 'divorc...   \n",
       "2  'virgin' now corrected to 'unmarried' in igims...   \n",
       "3  aaj aapne pakad liya: let man dujana before be...   \n",
       "4  hotel staff to get training to spot signs of s...   \n",
       "\n",
       "                                                text  \\\n",
       "0  the administration of union territory daman an...   \n",
       "1  malaika arora slammed an instagram user who tr...   \n",
       "2  the indira gandhi institute of medical science...   \n",
       "3  lashkar-e-taiba's kashmir commander abu dujana...   \n",
       "4  hotels in maharashtra will train their staff t...   \n",
       "\n",
       "                                               ctext  \n",
       "0  the daman and diu administration on wednesday ...  \n",
       "1  from her special numbers to tv?appearances, bo...  \n",
       "2  the indira gandhi institute of medical science...  \n",
       "3  lashkar-e-taiba's kashmir commander abu dujana...  \n",
       "4  hotels in mumbai and other indian cities are t...  "
      ]
     },
     "execution_count": 10,
     "metadata": {},
     "output_type": "execute_result"
    }
   ],
   "source": [
    "# Converting to lowercase\n",
    "df['ctext'] = df['ctext'].apply(str.lower)\n",
    "df['text'] = df['text'].apply(str.lower)\n",
    "df['headlines'] = df['headlines'].apply(str.lower)\n",
    "df.head()"
   ]
  },
  {
   "cell_type": "code",
   "execution_count": 11,
   "metadata": {
    "tags": []
   },
   "outputs": [
    {
     "data": {
      "text/html": [
       "<div>\n",
       "<style scoped>\n",
       "    .dataframe tbody tr th:only-of-type {\n",
       "        vertical-align: middle;\n",
       "    }\n",
       "\n",
       "    .dataframe tbody tr th {\n",
       "        vertical-align: top;\n",
       "    }\n",
       "\n",
       "    .dataframe thead th {\n",
       "        text-align: right;\n",
       "    }\n",
       "</style>\n",
       "<table border=\"1\" class=\"dataframe\">\n",
       "  <thead>\n",
       "    <tr style=\"text-align: right;\">\n",
       "      <th></th>\n",
       "      <th>headlines</th>\n",
       "      <th>text</th>\n",
       "      <th>ctext</th>\n",
       "      <th>headlines_length</th>\n",
       "      <th>text_length</th>\n",
       "      <th>ctext_length</th>\n",
       "    </tr>\n",
       "  </thead>\n",
       "  <tbody>\n",
       "    <tr>\n",
       "      <th>0</th>\n",
       "      <td>daman &amp; diu revokes mandatory rakshabandhan in...</td>\n",
       "      <td>the administration of union territory daman an...</td>\n",
       "      <td>the daman and diu administration on wednesday ...</td>\n",
       "      <td>9</td>\n",
       "      <td>60</td>\n",
       "      <td>364</td>\n",
       "    </tr>\n",
       "    <tr>\n",
       "      <th>1</th>\n",
       "      <td>malaika slams user who trolled her for 'divorc...</td>\n",
       "      <td>malaika arora slammed an instagram user who tr...</td>\n",
       "      <td>from her special numbers to tv?appearances, bo...</td>\n",
       "      <td>10</td>\n",
       "      <td>60</td>\n",
       "      <td>396</td>\n",
       "    </tr>\n",
       "    <tr>\n",
       "      <th>2</th>\n",
       "      <td>'virgin' now corrected to 'unmarried' in igims...</td>\n",
       "      <td>the indira gandhi institute of medical science...</td>\n",
       "      <td>the indira gandhi institute of medical science...</td>\n",
       "      <td>8</td>\n",
       "      <td>60</td>\n",
       "      <td>335</td>\n",
       "    </tr>\n",
       "    <tr>\n",
       "      <th>3</th>\n",
       "      <td>aaj aapne pakad liya: let man dujana before be...</td>\n",
       "      <td>lashkar-e-taiba's kashmir commander abu dujana...</td>\n",
       "      <td>lashkar-e-taiba's kashmir commander abu dujana...</td>\n",
       "      <td>10</td>\n",
       "      <td>60</td>\n",
       "      <td>404</td>\n",
       "    </tr>\n",
       "    <tr>\n",
       "      <th>4</th>\n",
       "      <td>hotel staff to get training to spot signs of s...</td>\n",
       "      <td>hotels in maharashtra will train their staff t...</td>\n",
       "      <td>hotels in mumbai and other indian cities are t...</td>\n",
       "      <td>11</td>\n",
       "      <td>60</td>\n",
       "      <td>526</td>\n",
       "    </tr>\n",
       "  </tbody>\n",
       "</table>\n",
       "</div>"
      ],
      "text/plain": [
       "                                           headlines  \\\n",
       "0  daman & diu revokes mandatory rakshabandhan in...   \n",
       "1  malaika slams user who trolled her for 'divorc...   \n",
       "2  'virgin' now corrected to 'unmarried' in igims...   \n",
       "3  aaj aapne pakad liya: let man dujana before be...   \n",
       "4  hotel staff to get training to spot signs of s...   \n",
       "\n",
       "                                                text  \\\n",
       "0  the administration of union territory daman an...   \n",
       "1  malaika arora slammed an instagram user who tr...   \n",
       "2  the indira gandhi institute of medical science...   \n",
       "3  lashkar-e-taiba's kashmir commander abu dujana...   \n",
       "4  hotels in maharashtra will train their staff t...   \n",
       "\n",
       "                                               ctext  headlines_length  \\\n",
       "0  the daman and diu administration on wednesday ...                 9   \n",
       "1  from her special numbers to tv?appearances, bo...                10   \n",
       "2  the indira gandhi institute of medical science...                 8   \n",
       "3  lashkar-e-taiba's kashmir commander abu dujana...                10   \n",
       "4  hotels in mumbai and other indian cities are t...                11   \n",
       "\n",
       "   text_length  ctext_length  \n",
       "0           60           364  \n",
       "1           60           396  \n",
       "2           60           335  \n",
       "3           60           404  \n",
       "4           60           526  "
      ]
     },
     "execution_count": 11,
     "metadata": {},
     "output_type": "execute_result"
    }
   ],
   "source": [
    "df['headlines_length'] = [len(x.split()) for x in df.headlines]\n",
    "df['text_length'] = [len(x.split()) for x in df.text]\n",
    "df['ctext_length'] = [len(x.split()) for x in df.ctext]\n",
    "df.head()"
   ]
  },
  {
   "cell_type": "code",
   "execution_count": 12,
   "metadata": {
    "tags": []
   },
   "outputs": [
    {
     "data": {
      "text/html": [
       "<div>\n",
       "<style scoped>\n",
       "    .dataframe tbody tr th:only-of-type {\n",
       "        vertical-align: middle;\n",
       "    }\n",
       "\n",
       "    .dataframe tbody tr th {\n",
       "        vertical-align: top;\n",
       "    }\n",
       "\n",
       "    .dataframe thead th {\n",
       "        text-align: right;\n",
       "    }\n",
       "</style>\n",
       "<table border=\"1\" class=\"dataframe\">\n",
       "  <thead>\n",
       "    <tr style=\"text-align: right;\">\n",
       "      <th></th>\n",
       "      <th>headlines_length</th>\n",
       "      <th>text_length</th>\n",
       "      <th>ctext_length</th>\n",
       "    </tr>\n",
       "  </thead>\n",
       "  <tbody>\n",
       "    <tr>\n",
       "      <th>count</th>\n",
       "      <td>4274.000000</td>\n",
       "      <td>4274.000000</td>\n",
       "      <td>4274.000000</td>\n",
       "    </tr>\n",
       "    <tr>\n",
       "      <th>mean</th>\n",
       "      <td>9.300889</td>\n",
       "      <td>58.299719</td>\n",
       "      <td>351.740056</td>\n",
       "    </tr>\n",
       "    <tr>\n",
       "      <th>std</th>\n",
       "      <td>1.407168</td>\n",
       "      <td>2.314246</td>\n",
       "      <td>358.884472</td>\n",
       "    </tr>\n",
       "    <tr>\n",
       "      <th>min</th>\n",
       "      <td>4.000000</td>\n",
       "      <td>44.000000</td>\n",
       "      <td>50.000000</td>\n",
       "    </tr>\n",
       "    <tr>\n",
       "      <th>25%</th>\n",
       "      <td>8.000000</td>\n",
       "      <td>57.000000</td>\n",
       "      <td>193.000000</td>\n",
       "    </tr>\n",
       "    <tr>\n",
       "      <th>50%</th>\n",
       "      <td>9.000000</td>\n",
       "      <td>59.000000</td>\n",
       "      <td>288.000000</td>\n",
       "    </tr>\n",
       "    <tr>\n",
       "      <th>75%</th>\n",
       "      <td>10.000000</td>\n",
       "      <td>60.000000</td>\n",
       "      <td>416.000000</td>\n",
       "    </tr>\n",
       "    <tr>\n",
       "      <th>max</th>\n",
       "      <td>14.000000</td>\n",
       "      <td>62.000000</td>\n",
       "      <td>12202.000000</td>\n",
       "    </tr>\n",
       "  </tbody>\n",
       "</table>\n",
       "</div>"
      ],
      "text/plain": [
       "       headlines_length  text_length  ctext_length\n",
       "count       4274.000000  4274.000000   4274.000000\n",
       "mean           9.300889    58.299719    351.740056\n",
       "std            1.407168     2.314246    358.884472\n",
       "min            4.000000    44.000000     50.000000\n",
       "25%            8.000000    57.000000    193.000000\n",
       "50%            9.000000    59.000000    288.000000\n",
       "75%           10.000000    60.000000    416.000000\n",
       "max           14.000000    62.000000  12202.000000"
      ]
     },
     "execution_count": 12,
     "metadata": {},
     "output_type": "execute_result"
    }
   ],
   "source": [
    "df = df[df['ctext_length'] >= df['text_length']]\n",
    "df.describe()"
   ]
  },
  {
   "cell_type": "code",
   "execution_count": 14,
   "metadata": {
    "tags": []
   },
   "outputs": [
    {
     "data": {
      "text/html": [
       "<div>\n",
       "<style scoped>\n",
       "    .dataframe tbody tr th:only-of-type {\n",
       "        vertical-align: middle;\n",
       "    }\n",
       "\n",
       "    .dataframe tbody tr th {\n",
       "        vertical-align: top;\n",
       "    }\n",
       "\n",
       "    .dataframe thead th {\n",
       "        text-align: right;\n",
       "    }\n",
       "</style>\n",
       "<table border=\"1\" class=\"dataframe\">\n",
       "  <thead>\n",
       "    <tr style=\"text-align: right;\">\n",
       "      <th></th>\n",
       "      <th>headlines</th>\n",
       "      <th>text</th>\n",
       "      <th>ctext</th>\n",
       "    </tr>\n",
       "  </thead>\n",
       "  <tbody>\n",
       "    <tr>\n",
       "      <th>0</th>\n",
       "      <td>daman &amp; diu revokes mandatory rakshabandhan in...</td>\n",
       "      <td>the administration of union territory daman an...</td>\n",
       "      <td>the daman and diu administration on wednesday ...</td>\n",
       "    </tr>\n",
       "    <tr>\n",
       "      <th>1</th>\n",
       "      <td>malaika slams user who trolled her for 'divorc...</td>\n",
       "      <td>malaika arora slammed an instagram user who tr...</td>\n",
       "      <td>from her special numbers to tv?appearances, bo...</td>\n",
       "    </tr>\n",
       "    <tr>\n",
       "      <th>2</th>\n",
       "      <td>'virgin' now corrected to 'unmarried' in igims...</td>\n",
       "      <td>the indira gandhi institute of medical science...</td>\n",
       "      <td>the indira gandhi institute of medical science...</td>\n",
       "    </tr>\n",
       "    <tr>\n",
       "      <th>3</th>\n",
       "      <td>aaj aapne pakad liya: let man dujana before be...</td>\n",
       "      <td>lashkar-e-taiba's kashmir commander abu dujana...</td>\n",
       "      <td>lashkar-e-taiba's kashmir commander abu dujana...</td>\n",
       "    </tr>\n",
       "    <tr>\n",
       "      <th>4</th>\n",
       "      <td>hotel staff to get training to spot signs of s...</td>\n",
       "      <td>hotels in maharashtra will train their staff t...</td>\n",
       "      <td>hotels in mumbai and other indian cities are t...</td>\n",
       "    </tr>\n",
       "  </tbody>\n",
       "</table>\n",
       "</div>"
      ],
      "text/plain": [
       "                                           headlines  \\\n",
       "0  daman & diu revokes mandatory rakshabandhan in...   \n",
       "1  malaika slams user who trolled her for 'divorc...   \n",
       "2  'virgin' now corrected to 'unmarried' in igims...   \n",
       "3  aaj aapne pakad liya: let man dujana before be...   \n",
       "4  hotel staff to get training to spot signs of s...   \n",
       "\n",
       "                                                text  \\\n",
       "0  the administration of union territory daman an...   \n",
       "1  malaika arora slammed an instagram user who tr...   \n",
       "2  the indira gandhi institute of medical science...   \n",
       "3  lashkar-e-taiba's kashmir commander abu dujana...   \n",
       "4  hotels in maharashtra will train their staff t...   \n",
       "\n",
       "                                               ctext  \n",
       "0  the daman and diu administration on wednesday ...  \n",
       "1  from her special numbers to tv?appearances, bo...  \n",
       "2  the indira gandhi institute of medical science...  \n",
       "3  lashkar-e-taiba's kashmir commander abu dujana...  \n",
       "4  hotels in mumbai and other indian cities are t...  "
      ]
     },
     "execution_count": 14,
     "metadata": {},
     "output_type": "execute_result"
    }
   ],
   "source": [
    "df = df.drop(columns=['headlines_length', 'text_length', 'ctext_length', 'diff'])\n",
    "df.head()"
   ]
  },
  {
   "cell_type": "code",
   "execution_count": 15,
   "metadata": {
    "tags": []
   },
   "outputs": [
    {
     "data": {
      "text/html": [
       "<div>\n",
       "<style scoped>\n",
       "    .dataframe tbody tr th:only-of-type {\n",
       "        vertical-align: middle;\n",
       "    }\n",
       "\n",
       "    .dataframe tbody tr th {\n",
       "        vertical-align: top;\n",
       "    }\n",
       "\n",
       "    .dataframe thead th {\n",
       "        text-align: right;\n",
       "    }\n",
       "</style>\n",
       "<table border=\"1\" class=\"dataframe\">\n",
       "  <thead>\n",
       "    <tr style=\"text-align: right;\">\n",
       "      <th></th>\n",
       "      <th>summary</th>\n",
       "      <th>news</th>\n",
       "    </tr>\n",
       "  </thead>\n",
       "  <tbody>\n",
       "    <tr>\n",
       "      <th>0</th>\n",
       "      <td>the administration of union territory daman an...</td>\n",
       "      <td>daman &amp; diu revokes mandatory rakshabandhan in...</td>\n",
       "    </tr>\n",
       "    <tr>\n",
       "      <th>1</th>\n",
       "      <td>malaika arora slammed an instagram user who tr...</td>\n",
       "      <td>malaika slams user who trolled her for 'divorc...</td>\n",
       "    </tr>\n",
       "    <tr>\n",
       "      <th>2</th>\n",
       "      <td>the indira gandhi institute of medical science...</td>\n",
       "      <td>'virgin' now corrected to 'unmarried' in igims...</td>\n",
       "    </tr>\n",
       "    <tr>\n",
       "      <th>3</th>\n",
       "      <td>lashkar-e-taiba's kashmir commander abu dujana...</td>\n",
       "      <td>aaj aapne pakad liya: let man dujana before be...</td>\n",
       "    </tr>\n",
       "    <tr>\n",
       "      <th>4</th>\n",
       "      <td>hotels in maharashtra will train their staff t...</td>\n",
       "      <td>hotel staff to get training to spot signs of s...</td>\n",
       "    </tr>\n",
       "  </tbody>\n",
       "</table>\n",
       "</div>"
      ],
      "text/plain": [
       "                                             summary  \\\n",
       "0  the administration of union territory daman an...   \n",
       "1  malaika arora slammed an instagram user who tr...   \n",
       "2  the indira gandhi institute of medical science...   \n",
       "3  lashkar-e-taiba's kashmir commander abu dujana...   \n",
       "4  hotels in maharashtra will train their staff t...   \n",
       "\n",
       "                                                news  \n",
       "0  daman & diu revokes mandatory rakshabandhan in...  \n",
       "1  malaika slams user who trolled her for 'divorc...  \n",
       "2  'virgin' now corrected to 'unmarried' in igims...  \n",
       "3  aaj aapne pakad liya: let man dujana before be...  \n",
       "4  hotel staff to get training to spot signs of s...  "
      ]
     },
     "execution_count": 15,
     "metadata": {},
     "output_type": "execute_result"
    }
   ],
   "source": [
    "df['news'] = df['headlines'] + '. ' + df['ctext']\n",
    "df.rename(columns={\"text\": \"summary\"}, inplace = True)\n",
    "df = df.drop(columns=['headlines', 'ctext'])\n",
    "df.head()"
   ]
  },
  {
   "cell_type": "code",
   "execution_count": 16,
   "metadata": {
    "tags": []
   },
   "outputs": [
    {
     "data": {
      "text/html": [
       "<div>\n",
       "<style scoped>\n",
       "    .dataframe tbody tr th:only-of-type {\n",
       "        vertical-align: middle;\n",
       "    }\n",
       "\n",
       "    .dataframe tbody tr th {\n",
       "        vertical-align: top;\n",
       "    }\n",
       "\n",
       "    .dataframe thead th {\n",
       "        text-align: right;\n",
       "    }\n",
       "</style>\n",
       "<table border=\"1\" class=\"dataframe\">\n",
       "  <thead>\n",
       "    <tr style=\"text-align: right;\">\n",
       "      <th></th>\n",
       "      <th>summary</th>\n",
       "      <th>news</th>\n",
       "    </tr>\n",
       "  </thead>\n",
       "  <tbody>\n",
       "    <tr>\n",
       "      <th>0</th>\n",
       "      <td>the administration of union territory daman an...</td>\n",
       "      <td>summarize: daman &amp; diu revokes mandatory raksh...</td>\n",
       "    </tr>\n",
       "    <tr>\n",
       "      <th>1</th>\n",
       "      <td>malaika arora slammed an instagram user who tr...</td>\n",
       "      <td>summarize: malaika slams user who trolled her ...</td>\n",
       "    </tr>\n",
       "    <tr>\n",
       "      <th>2</th>\n",
       "      <td>the indira gandhi institute of medical science...</td>\n",
       "      <td>summarize: 'virgin' now corrected to 'unmarrie...</td>\n",
       "    </tr>\n",
       "    <tr>\n",
       "      <th>3</th>\n",
       "      <td>lashkar-e-taiba's kashmir commander abu dujana...</td>\n",
       "      <td>summarize: aaj aapne pakad liya: let man dujan...</td>\n",
       "    </tr>\n",
       "    <tr>\n",
       "      <th>4</th>\n",
       "      <td>hotels in maharashtra will train their staff t...</td>\n",
       "      <td>summarize: hotel staff to get training to spot...</td>\n",
       "    </tr>\n",
       "  </tbody>\n",
       "</table>\n",
       "</div>"
      ],
      "text/plain": [
       "                                             summary  \\\n",
       "0  the administration of union territory daman an...   \n",
       "1  malaika arora slammed an instagram user who tr...   \n",
       "2  the indira gandhi institute of medical science...   \n",
       "3  lashkar-e-taiba's kashmir commander abu dujana...   \n",
       "4  hotels in maharashtra will train their staff t...   \n",
       "\n",
       "                                                news  \n",
       "0  summarize: daman & diu revokes mandatory raksh...  \n",
       "1  summarize: malaika slams user who trolled her ...  \n",
       "2  summarize: 'virgin' now corrected to 'unmarrie...  \n",
       "3  summarize: aaj aapne pakad liya: let man dujan...  \n",
       "4  summarize: hotel staff to get training to spot...  "
      ]
     },
     "execution_count": 16,
     "metadata": {},
     "output_type": "execute_result"
    }
   ],
   "source": [
    "# Making the dataset\n",
    "prefix = 'summarize: '\n",
    "df['news'] = prefix + df['news']\n",
    "df.head()"
   ]
  },
  {
   "cell_type": "code",
   "execution_count": 17,
   "metadata": {
    "tags": []
   },
   "outputs": [
    {
     "name": "stdout",
     "output_type": "stream",
     "text": [
      "train and val shape: (4231, 2) test shape: (43, 2)\n"
     ]
    },
    {
     "data": {
      "text/plain": [
       "{'summary': \"lenovo phab 2 pro, the first phone with google's augmented reality camera, has been launched in india at ?29,999. through its depth-sensing google tango camera, the phone can map out physical spaces, track its own position in a room, and follow objects. powered by a snapdragon 652 processor, the 6.4-inch phone has 4 gb ram and 4,050 mah battery.\",\n",
       " 'news': \"summarize: 1st google tango camera phone launches in india at ?29,999. how crazy are you about the pokã©mon go? if not much, what about lenovo phones? nothing still? what about a lenovo phone priced cheaper in india than in the us?lenovo's first smartphone touted to have google tango -- lenovo phab2 pro -- has been launched in india and available for rs 29,999 exclusively on flipkart, discounted from its us price of $499 (roughly rs 33,500) where it was first announced in november 2016. the phone was expected to sell at rs 40,000 given the usual price difference between two markets.also read:  xiaomi mi max v lenovo phab 2 plus: top specs shootout lenovo phab 2 pro is the world's first smartphone to feature google's tango technology -- a set of software and specially calibrated group of embedded sensors developed by google to bring augmented reality (ar) experiences on relatively affordable phablet form factor by complimenting them with depth perception and 3d mapping to understand shapes and own location in the immediate surroundings. asus also launched the zenfone ar at ces that has both google daydream vr and google tango.\\xa0 augmented reality means your smartphone that will be aware of it surroundings, and create computer generated images to superimpose them on a user's view of the real world to provide a merged view that they can interact with. the pokã©mon go and house of the dying sun are some of the top ar games in the world.phab2 pro is a 4g smartphone powered by the qualcomm snapdragon 652 processor and comes with 4gb ram and 64gb storage expandable up to 128gb. the phone has a 6.4 inch quad hd ips display, 16-megapixel rear camera with pdaf and 8-megapixel front camera with f/2.2 aperture and 1.4 micro meter pixel size. it features dolby audio capture 5.1 to record surround sound using three microphones deployed on the phone while there is dolby atmos playback for surround sound output.\"}"
      ]
     },
     "execution_count": 17,
     "metadata": {},
     "output_type": "execute_result"
    }
   ],
   "source": [
    "# Converting the pandas dataset to huggingface dataset\n",
    "# first split the train and test set\n",
    "train_df, test_df = train_test_split(df, test_size=0.01, shuffle=True)\n",
    "print(\"train and val shape:\", train_df.shape, \"test shape:\",test_df.shape)\n",
    "# save for every model inference\n",
    "global_train_df = train_df\n",
    "global_test_df = test_df\n",
    "train_df = datasets.Dataset.from_pandas(train_df)\n",
    "train_df = train_df.remove_columns([\"__index_level_0__\"])\n",
    "# split train into train and val\n",
    "train_df = train_df.train_test_split(test_size=0.2, shuffle=True) # split train and test\n",
    "train_df[\"train\"][0]"
   ]
  },
  {
   "cell_type": "code",
   "execution_count": 18,
   "metadata": {
    "tags": []
   },
   "outputs": [
    {
     "name": "stdout",
     "output_type": "stream",
     "text": [
      "<class 'datasets.dataset_dict.DatasetDict'>\n"
     ]
    },
    {
     "data": {
      "text/plain": [
       "DatasetDict({\n",
       "    train: Dataset({\n",
       "        features: ['summary', 'news'],\n",
       "        num_rows: 3384\n",
       "    })\n",
       "    val: Dataset({\n",
       "        features: ['summary', 'news'],\n",
       "        num_rows: 847\n",
       "    })\n",
       "})"
      ]
     },
     "execution_count": 18,
     "metadata": {},
     "output_type": "execute_result"
    }
   ],
   "source": [
    "# Fitting into dataset dict\n",
    "train_val_test_dataset = DatasetDict({\n",
    "    'train': train_df[\"train\"],\n",
    "    'val': train_df['test']})\n",
    "\n",
    "print(type(train_val_test_dataset))\n",
    "train_val_test_dataset"
   ]
  },
  {
   "cell_type": "code",
   "execution_count": 20,
   "metadata": {
    "tags": []
   },
   "outputs": [],
   "source": [
    "def prepare_dataset(data):\n",
    "    inputs = data[\"news\"]\n",
    "    model_inputs = tokenizer(inputs, max_length=512, truncation=True)\n",
    "    labels = tokenizer(text_target=data[\"summary\"], max_length=128, truncation=True)\n",
    "    model_inputs[\"labels\"] = labels[\"input_ids\"]\n",
    "    return model_inputs"
   ]
  },
  {
   "cell_type": "markdown",
   "metadata": {},
   "source": [
    "Now create a batch of examples using [DataCollatorForSeq2Seq](https://huggingface.co/docs/transformers/v4.35.0/en/main_classes/data_collator#transformers.DataCollatorForSeq2Seq). It’s more efficient to dynamically pad the sentences to the longest length in a batch during collation, instead of padding the whole dataset to the maximum length."
   ]
  },
  {
   "cell_type": "code",
   "execution_count": 24,
   "metadata": {
    "tags": []
   },
   "outputs": [],
   "source": [
    "def compute_metrics(eval_pred):\n",
    "    predictions, labels = eval_pred\n",
    "    decoded_preds = tokenizer.batch_decode(predictions, skip_special_tokens=True)\n",
    "    labels = np.where(labels != -100, labels, tokenizer.pad_token_id)\n",
    "    decoded_labels = tokenizer.batch_decode(labels, skip_special_tokens=True)\n",
    "    result = Rouge().get_scores(decoded_preds, decoded_labels, avg=True, ignore_empty=True)\n",
    "\n",
    "    # prediction_lens = [np.count_nonzero(pred != tokenizer.pad_token_id) for pred in predictions]\n",
    "    # result[\"gen_len\"] = np.mean(prediction_lens)\n",
    "\n",
    "    return result"
   ]
  },
  {
   "cell_type": "code",
   "execution_count": 32,
   "metadata": {
    "tags": []
   },
   "outputs": [],
   "source": [
    "# Free up memory\n",
    "torch.cuda.empty_cache()"
   ]
  },
  {
   "cell_type": "code",
   "execution_count": 33,
   "metadata": {
    "tags": []
   },
   "outputs": [
    {
     "data": {
      "application/vnd.jupyter.widget-view+json": {
       "model_id": "bfa61a3e2c9d4846aa7290eef165d71e",
       "version_major": 2,
       "version_minor": 0
      },
      "text/plain": [
       "Map:   0%|          | 0/3384 [00:00<?, ? examples/s]"
      ]
     },
     "metadata": {},
     "output_type": "display_data"
    },
    {
     "data": {
      "application/vnd.jupyter.widget-view+json": {
       "model_id": "6f0adc47e2cc450d90f3d785255386fb",
       "version_major": 2,
       "version_minor": 0
      },
      "text/plain": [
       "Map:   0%|          | 0/847 [00:00<?, ? examples/s]"
      ]
     },
     "metadata": {},
     "output_type": "display_data"
    }
   ],
   "source": [
    "# tokenize the data\n",
    "model_name = \"google/pegasus-large\"\n",
    "tokenizer = AutoTokenizer.from_pretrained(model_name, use_fast = False)\n",
    "tokenized_data = train_val_test_dataset.map(prepare_dataset, batched=True)"
   ]
  },
  {
   "cell_type": "code",
   "execution_count": 34,
   "metadata": {
    "tags": []
   },
   "outputs": [],
   "source": [
    "# Padding\n",
    "data_collator = DataCollatorForSeq2Seq(tokenizer=tokenizer, model=model_name)"
   ]
  },
  {
   "cell_type": "code",
   "execution_count": 35,
   "metadata": {
    "tags": []
   },
   "outputs": [
    {
     "name": "stderr",
     "output_type": "stream",
     "text": [
      "Some weights of PegasusForConditionalGeneration were not initialized from the model checkpoint at google/pegasus-large and are newly initialized: ['model.decoder.embed_positions.weight', 'model.encoder.embed_positions.weight']\n",
      "\n",
      "You should probably TRAIN this model on a down-stream task to be able to use it for predictions and inference.\n"
     ]
    }
   ],
   "source": [
    "# model\n",
    "PEGASUSmodel = AutoModelForSeq2SeqLM.from_pretrained(model_name).to(device)"
   ]
  },
  {
   "cell_type": "code",
   "execution_count": 36,
   "metadata": {
    "tags": []
   },
   "outputs": [],
   "source": [
    "# set up hyper-parameters\n",
    "training_args = Seq2SeqTrainingArguments(\n",
    "    output_dir=\"pegasus-news\",\n",
    "    evaluation_strategy=\"epoch\",\n",
    "    learning_rate=1e-6,\n",
    "    per_device_train_batch_size=8,\n",
    "    per_device_eval_batch_size=8,\n",
    "    weight_decay=0.01,\n",
    "    save_total_limit=2,\n",
    "    num_train_epochs=3,\n",
    "    predict_with_generate=True,\n",
    "    fp16=False, # FP16 not supported for PEGASUS: https://huggingface.co/docs/transformers/model_doc/pegasus#checkpoints\n",
    "    report_to=\"none\"\n",
    ")"
   ]
  },
  {
   "cell_type": "code",
   "execution_count": 37,
   "metadata": {
    "tags": []
   },
   "outputs": [],
   "source": [
    "# setup trainer\n",
    "trainer = Seq2SeqTrainer(\n",
    "    model = PEGASUSmodel,\n",
    "    args = training_args,\n",
    "    train_dataset = tokenized_data[\"train\"],\n",
    "    eval_dataset = tokenized_data[\"val\"],\n",
    "    tokenizer = tokenizer,\n",
    "    data_collator = data_collator,\n",
    "    compute_metrics = compute_metrics\n",
    ")"
   ]
  },
  {
   "cell_type": "code",
   "execution_count": 38,
   "metadata": {
    "tags": []
   },
   "outputs": [
    {
     "data": {
      "text/html": [
       "\n",
       "    <div>\n",
       "      \n",
       "      <progress value='1269' max='1269' style='width:300px; height:20px; vertical-align: middle;'></progress>\n",
       "      [1269/1269 2:09:07, Epoch 3/3]\n",
       "    </div>\n",
       "    <table border=\"1\" class=\"dataframe\">\n",
       "  <thead>\n",
       " <tr style=\"text-align: left;\">\n",
       "      <th>Epoch</th>\n",
       "      <th>Training Loss</th>\n",
       "      <th>Validation Loss</th>\n",
       "      <th>Rouge-1</th>\n",
       "      <th>Rouge-2</th>\n",
       "      <th>Rouge-l</th>\n",
       "    </tr>\n",
       "  </thead>\n",
       "  <tbody>\n",
       "    <tr>\n",
       "      <td>1</td>\n",
       "      <td>No log</td>\n",
       "      <td>1.708059</td>\n",
       "      <td>{'r': 0.4226024767202879, 'p': 0.34496959357843615, 'f': 0.3602114751016854}</td>\n",
       "      <td>{'r': 0.19066724740497631, 'p': 0.15275740366063076, 'f': 0.15643009303399508}</td>\n",
       "      <td>{'r': 0.37836219852997405, 'p': 0.30833161329969466, 'f': 0.32208903782335413}</td>\n",
       "    </tr>\n",
       "    <tr>\n",
       "      <td>2</td>\n",
       "      <td>2.156300</td>\n",
       "      <td>1.604015</td>\n",
       "      <td>{'r': 0.42870738318419865, 'p': 0.34358610140933893, 'f': 0.3612603719250026}</td>\n",
       "      <td>{'r': 0.19552963369178558, 'p': 0.15225476322754022, 'f': 0.157552839681331}</td>\n",
       "      <td>{'r': 0.3838586158422521, 'p': 0.30691966907819435, 'f': 0.3229502551530144}</td>\n",
       "    </tr>\n",
       "    <tr>\n",
       "      <td>3</td>\n",
       "      <td>1.894400</td>\n",
       "      <td>1.578550</td>\n",
       "      <td>{'r': 0.43470647375090926, 'p': 0.34330113743430485, 'f': 0.36287411491793264}</td>\n",
       "      <td>{'r': 0.20103970657002507, 'p': 0.15353668699374684, 'f': 0.16002379390579677}</td>\n",
       "      <td>{'r': 0.3898257036159917, 'p': 0.307220347956584, 'f': 0.32498640804700546}</td>\n",
       "    </tr>\n",
       "  </tbody>\n",
       "</table><p>"
      ],
      "text/plain": [
       "<IPython.core.display.HTML object>"
      ]
     },
     "metadata": {},
     "output_type": "display_data"
    },
    {
     "data": {
      "text/plain": [
       "TrainOutput(global_step=1269, training_loss=1.9827846469984363, metrics={'train_runtime': 7747.9952, 'train_samples_per_second': 1.31, 'train_steps_per_second': 0.164, 'total_flos': 1.4608522581835776e+16, 'train_loss': 1.9827846469984363, 'epoch': 3.0})"
      ]
     },
     "execution_count": 38,
     "metadata": {},
     "output_type": "execute_result"
    }
   ],
   "source": [
    "trainer.train()"
   ]
  },
  {
   "cell_type": "code",
   "execution_count": 39,
   "metadata": {},
   "outputs": [
    {
     "data": {
      "text/plain": [
       "('pegasus-news/tokenizer_config.json',\n",
       " 'pegasus-news/special_tokens_map.json',\n",
       " 'pegasus-news/spiece.model',\n",
       " 'pegasus-news/added_tokens.json')"
      ]
     },
     "execution_count": 39,
     "metadata": {},
     "output_type": "execute_result"
    }
   ],
   "source": [
    "# save the model\n",
    "model_path = \"pegasus-news\"\n",
    "trainer.save_model(model_path)\n",
    "tokenizer.save_pretrained(model_path)"
   ]
  },
  {
   "cell_type": "code",
   "execution_count": 40,
   "metadata": {},
   "outputs": [],
   "source": [
    "model = AutoModelForSeq2SeqLM.from_pretrained(\"pegasus-news\")\n",
    "tokenizer = AutoTokenizer.from_pretrained(\"pegasus-news\")"
   ]
  },
  {
   "cell_type": "code",
   "execution_count": 41,
   "metadata": {},
   "outputs": [
    {
     "name": "stdout",
     "output_type": "stream",
     "text": [
      "original_news:  summarize: taapsee pannu opts out of event organised by fairness cream. taapsee pannu, who was catapulted to the big league after her film pink became a runaway hit, has joined the likes of kangana ranaut and ranbir kapoor by taking a stand against fairness creams. the actor was supposed to be a part of an event in jaipur that was to be held next month, but she pulled out when she learnt that it was being organised by a fairness cream.also read: taapsee pannu opens up on being eve-teased, being told her backless dress was the problem also read: is taapsee pannu's nepotism remark directed at varun dhawan? taapsee said, \"i agree it was a last moment call but when i got to know that i will have to pose with the fairness brand during the event i decided to take my name out of that event. i have actually lost a few films because of being fair so i will definitely not propagate fairness in any way.\"\n",
      "\n",
      "{'summary_text': \"the actor was supposed to be a part of an event in jaipur that was to be held next month, but she pulled out when she learnt that it was being organised by a fairness cream.also read: taapsee pannu opens up on being eve-teased, being told her backless dress was the problem also read: is taapsee pannu's nepotism remark directed at varun dhawan?\"}\n",
      "\n",
      "\n",
      "\n",
      "original_news:  summarize: sachin attends rajya sabha after questions on attendance. former cricketer sachin tendulkar was spotted in the rajya sabha today a couple of days after absence of nominated members from the upper house was questioned by samajwadi party mp naresh agarwal.although sachin attended rajya sabha proceedings, he didn't ask any question. boxer mary kom too was present in the house today.samajwadi party mp naresh agarwal had on tuesday questioned the absence of celebrity members of the house and advocated them being disqualified from rajya sabha membership.\"sachin tendulkar and rekha should resign if they are not interested in parliament,\" agarwal said.tendulkar and actor rekha were the worst performers in attendance in the rajya sabha among the 12 nominated members.besides tendulkar and rekha, other nominated members include anu aga, sambhaji chhatrapati, swapan dasgupta, roopa ganguly, narendra jadhav, m c mary kom, k parasaran, gopi suresh, subramanian swamy and kts tulsi.also read:\n",
      "\n",
      "{'summary_text': 'boxer mary kom too was present in the house today.samajwadi party mp naresh agarwal had on tuesday questioned the absence of celebrity members of the house and advocated them being disqualified from rajya sabha membership.\"sachin tendulkar and rekha should resign if they are not interested in parliament,\" agarwal said.tendulkar and actor rekha were the worst performers in attendance in the rajya sabha among the 12 nominated members.'}\n",
      "\n",
      "\n",
      "\n",
      "original_news:  summarize: kohli will catch up with dhoni as captain, says ravi shastri. virat kohli?s ascendancy since becoming the india test captain in 2014 has been startling. his aggressive attitude coupled with brilliance in batting meant that the national team found a perfect successor to mahendra singh dhoni, whose achievement as skipper is unmatched in indian cricket.while still it is early days, but kohli can match dhoni?s achievements as skipper, believes india?s new head coach ravi shastri.(read | virat kohli ?spoilt for choices? ahead of second india vs sri lanka test match) the claim may be tall since dhoni remains the only cricket captain in the world to win all icc trophies ? the world cup, the world t20 and the champions trophy. his time at the helm of india also saw them claiming the no. 1 position in tests.but then kohli has also got a great start to his career as captain. among all the captains who have led india for more than 20 test matches, kohli has the highest win percentage. in 27 tests, he has 17 wins with 62.96 win percentage. dhoni won 27 out of 60 tests as captain, with the win percentage being 45. sourav ganguly is third in the list with a win percentage of 42.85, winning 21 out of 49 tests as captain.(read | how hardik pandya survived on maggi before becoming indian cricket team star) ?the way virat is progressing, he may well catch up with dhoni. i have been involved with cricket for 35 years as player, commentator and coach. apart from sachin tendulkar, i have never seen anyone break records like kohli. he has caught up with many greats, playing just half the number of matches. i wonder where will he stop,? shastri told anandabazar patrika, a bengali daily.shastri, who returned to the indian dressing room after a year-long gap as head coach, is currently touring sri lanka with the indian team for a three-test rubber followed by limited overs series.(read | sachin tendulkar joins pm narendra modi in praising indian women?s cricket team) the following seasons will see india travelling to south africa, australia and new zealand. this was one area where dhoni?s team failed to stamp their authority and if kohli?s gang does it, there will be no doubt about who india?s greatest captain is.?dhoni all-time greatest?shastri, however, added that based on current record dhoni is india?s all-time greatest captain.(read | khaled mahmud, ex-bangladesh skipper, suffers stroke; to be taken to singapore) ?the guy has won two world titles - a world cup and a world t20. beside that, he has also finished runner-up in another world t20. he played in the semi-finals of two other world t20 and world cups. people often talk about his limited-over record, but compare dhoni?s test with any captain and it will show who is the greatest ever ,? shari said.?virat is progressing in the same direction as well.?when shastri was the team director of india from 2014 to 2016, he saw both dhoni and kohli as captains from close quarters. in fact, it was during shastri?s time at the helm that dhoni quit as test captain to make way for kohli in 2014.shastri added that kohli has potential to be the greatest captain of the current generation but may face stiff competition from an australian.?steve smith. as a captain his batting record is exceptional,? shastri said.as a captain, smith?s batting average is 73.27, second only to don bradman?s 101.51. kohli is third in the list with an average of 61.09.in days to come, the two might well decide whose team will rule cricket in the next decade.\n",
      "\n",
      "{'summary_text': 'his aggressive attitude coupled with brilliance in batting meant that the national team found a perfect successor to mahendra singh dhoni, whose achievement as skipper is unmatched in indian cricket.while still it is early days, but kohli can match dhoni?s achievements as skipper, believes india?s new head coach ravi shastri.(read | virat kohli ?spoilt for choices?'}\n",
      "\n",
      "\n",
      "\n",
      "original_news:  summarize: punjab cm announces ?5 lakh reward for harmanpreet kaur. punjab chief minister capt amarinder singh on sunday announced a cash reward of rs five lakh for cricketer harmanpreet kaur for her performance that steered india to the finals of icc women?s world cup.the chief minister conveyed this to harmanpreet?s father, harmandar singh, whom he called up to congratulate, an official spokesperson said here.the chief minister lauded harmanpreet?s score of 171 not out of 115 balls in the semi-final against australia.wishing the best to harmanpreet for the final match between india and england, the chief minister hoped that she would continue to make the country proud with her continuing brilliance.celebrations have been on at harmanpreet?s home in moga in punjab after her 171-run knock against australia two days ago -- one of the greatest odi knocks in women?s cricket.\n",
      "\n",
      "{'summary_text': 'punjab chief minister capt amarinder singh on sunday announced a cash reward of rs five lakh for cricketer harmanpreet kaur for her performance that steered india to the finals of icc women?s world cup.the chief minister conveyed this to harmanpreet?s father, harmandar singh, whom he called up to congratulate, an official spokesperson said here.the chief minister lauded harmanpreet?s score of 171 not out of 115 balls in'}\n",
      "\n",
      "\n",
      "\n",
      "original_news:  summarize: upset with govt, deaflympics team refuses to leave airport. the indian contingent of hearing impaired athletes, returning to the country after its best ever performance in the deaflympics -- clinching five medals, including a gold -- refused to leave the indira gandhi international airport in new delhi on tuesday morning (5 a.m.) after realising that not a single official from the sports authority of india (sai) or the sports ministry were present to welcome them.the contingent of 46 athletes and support staff felt the apathy from the officials indicated that the government were not acknowledging their success at the games held at samsun, turkey. apparently, the athletes also wanted to speak to sports minister vijay goel, to apprise him of the situation.?the indian contingent participated in a total of eight disciplines at the games. out of those eight disciplines, we won medals in three. we won gold and bronze in wrestling, bronze in lawn tennis and silver in golf,? ketan shah, team?s interpreter, said.?the day we won the medals, we told the government that we have made the nation proud. these medal winners made the nation proud, but no one, not even the sports minister, is here to welcome us.?six-hour protestthe athletes staged protest for over six hours before dilip singh, a project officer with sai, reached the airport to receive them.upset with govt., indian deaflympics team refuse to leave airportread @ani_news story | https://t.co/g2mm0tahda pic.twitter.com/zec0lzxsfv? ani digital (@ani_digital) august 1, 2017the sai official then took the players to jawaharlal nehru stadium and it has been told that they will be taken to shastri bhawan in the evening.?we have been informed that in the evening we will be going to shastri bhawan, but it is not clear that whether the contingent will be meeting the sports minister or the sports secretary,? said avinash gupta father of deaflympics tennis player parul gupta. ?what these players wanted just a small welcome at the airport and a photograph with the sports minister. but it?s the irony that they have to stage a protest for six hours to meet their demands. and even now meeting with the minister is not yet confirmed and they have to wait for another five-to-six hours at the nehru stadium,? added gupta.vijender?s goldthe gold medal for india was won gold by virender singh in 74kg freestyle wrestling competition. he defeated chakvetadze s of georgia 18-9 to clinch the big prize.this was the fourth successive medal -- three gold and a bronze --- for virender at the deaflympics. \n",
      "\n",
      "{'summary_text': 'the indian contingent of hearing impaired athletes, returning to the country after its best ever performance in the deaflympics -- clinching five medals, including a gold -- refused to leave the indira gandhi international airport in new delhi on tuesday morning (5 a.m.) after realising that not a single official from the sports authority of india (sai) or the sports ministry were present to welcome them.the contingent of 46 athletes and support staff felt the apathy from the officials'}\n",
      "\n",
      "\n"
     ]
    }
   ],
   "source": [
    "#for i in range(len(test_df['news']):\n",
    "for i in range(5):\n",
    "    print(\"original_news: \",test_df['news'].iloc[i])\n",
    "    summarizer = pipeline(\"summarization\", model = model,tokenizer = tokenizer, max_length = 100)\n",
    "    summary = summarizer(test_df['news'].iloc[i])\n",
    "    print(summary[0])\n",
    "    print()"
   ]
  }
 ],
 "metadata": {
  "environment": {
   "kernel": "python3",
   "name": "common-gpu.m113",
   "type": "gcloud",
   "uri": "gcr.io/deeplearning-platform-release/base-gpu:m113"
  },
  "kaggle": {
   "accelerator": "gpu",
   "dataSources": [
    {
     "datasetId": 1895,
     "sourceId": 791838,
     "sourceType": "datasetVersion"
    }
   ],
   "dockerImageVersionId": 30580,
   "isGpuEnabled": true,
   "isInternetEnabled": true,
   "language": "python",
   "sourceType": "notebook"
  },
  "kernelspec": {
   "display_name": "Python 3",
   "language": "python",
   "name": "python3"
  },
  "language_info": {
   "codemirror_mode": {
    "name": "ipython",
    "version": 3
   },
   "file_extension": ".py",
   "mimetype": "text/x-python",
   "name": "python",
   "nbconvert_exporter": "python",
   "pygments_lexer": "ipython3",
   "version": "3.10.13"
  }
 },
 "nbformat": 4,
 "nbformat_minor": 4
}
